{
 "cells": [
  {
   "cell_type": "code",
   "execution_count": 1,
   "id": "informational-tours",
   "metadata": {
    "execution": {
     "iopub.execute_input": "2021-07-02T12:13:20.731674Z",
     "iopub.status.busy": "2021-07-02T12:13:20.730636Z",
     "iopub.status.idle": "2021-07-02T12:13:27.914653Z",
     "shell.execute_reply": "2021-07-02T12:13:27.913881Z",
     "shell.execute_reply.started": "2021-07-02T12:01:51.827952Z"
    },
    "papermill": {
     "duration": 7.218936,
     "end_time": "2021-07-02T12:13:27.914841",
     "exception": false,
     "start_time": "2021-07-02T12:13:20.695905",
     "status": "completed"
    },
    "tags": []
   },
   "outputs": [],
   "source": [
    "# Importing Required Libraries\n",
    "import numpy as np\n",
    "import pandas as pd\n",
    "import tensorflow as tf\n",
    "from tensorflow.keras.layers import Dense, Input, Conv2D, MaxPooling2D, Flatten, Dropout\n",
    "from tensorflow.keras.models import Sequential\n",
    "from tensorflow.keras.optimizers import Adam\n",
    "from tensorflow.keras.regularizers import l2\n",
    "import cv2\n",
    "import seaborn as sns\n",
    "import matplotlib.pyplot as plt"
   ]
  },
  {
   "cell_type": "code",
   "execution_count": 2,
   "id": "typical-coaching",
   "metadata": {
    "execution": {
     "iopub.execute_input": "2021-07-02T12:13:27.958858Z",
     "iopub.status.busy": "2021-07-02T12:13:27.957780Z",
     "iopub.status.idle": "2021-07-02T12:13:31.922504Z",
     "shell.execute_reply": "2021-07-02T12:13:31.921983Z",
     "shell.execute_reply.started": "2021-07-02T12:03:44.845267Z"
    },
    "papermill": {
     "duration": 3.988469,
     "end_time": "2021-07-02T12:13:31.922649",
     "exception": false,
     "start_time": "2021-07-02T12:13:27.934180",
     "status": "completed"
    },
    "tags": []
   },
   "outputs": [
    {
     "name": "stdout",
     "output_type": "stream",
     "text": [
      "<class 'pandas.core.frame.DataFrame'>\n",
      "RangeIndex: 42000 entries, 0 to 41999\n",
      "Columns: 785 entries, label to pixel783\n",
      "dtypes: int64(785)\n",
      "memory usage: 251.5 MB\n",
      "None\n"
     ]
    },
    {
     "data": {
      "text/html": [
       "<div>\n",
       "<style scoped>\n",
       "    .dataframe tbody tr th:only-of-type {\n",
       "        vertical-align: middle;\n",
       "    }\n",
       "\n",
       "    .dataframe tbody tr th {\n",
       "        vertical-align: top;\n",
       "    }\n",
       "\n",
       "    .dataframe thead th {\n",
       "        text-align: right;\n",
       "    }\n",
       "</style>\n",
       "<table border=\"1\" class=\"dataframe\">\n",
       "  <thead>\n",
       "    <tr style=\"text-align: right;\">\n",
       "      <th></th>\n",
       "      <th>label</th>\n",
       "      <th>pixel0</th>\n",
       "      <th>pixel1</th>\n",
       "      <th>pixel2</th>\n",
       "      <th>pixel3</th>\n",
       "      <th>pixel4</th>\n",
       "      <th>pixel5</th>\n",
       "      <th>pixel6</th>\n",
       "      <th>pixel7</th>\n",
       "      <th>pixel8</th>\n",
       "      <th>...</th>\n",
       "      <th>pixel774</th>\n",
       "      <th>pixel775</th>\n",
       "      <th>pixel776</th>\n",
       "      <th>pixel777</th>\n",
       "      <th>pixel778</th>\n",
       "      <th>pixel779</th>\n",
       "      <th>pixel780</th>\n",
       "      <th>pixel781</th>\n",
       "      <th>pixel782</th>\n",
       "      <th>pixel783</th>\n",
       "    </tr>\n",
       "  </thead>\n",
       "  <tbody>\n",
       "    <tr>\n",
       "      <th>0</th>\n",
       "      <td>1</td>\n",
       "      <td>0</td>\n",
       "      <td>0</td>\n",
       "      <td>0</td>\n",
       "      <td>0</td>\n",
       "      <td>0</td>\n",
       "      <td>0</td>\n",
       "      <td>0</td>\n",
       "      <td>0</td>\n",
       "      <td>0</td>\n",
       "      <td>...</td>\n",
       "      <td>0</td>\n",
       "      <td>0</td>\n",
       "      <td>0</td>\n",
       "      <td>0</td>\n",
       "      <td>0</td>\n",
       "      <td>0</td>\n",
       "      <td>0</td>\n",
       "      <td>0</td>\n",
       "      <td>0</td>\n",
       "      <td>0</td>\n",
       "    </tr>\n",
       "    <tr>\n",
       "      <th>1</th>\n",
       "      <td>0</td>\n",
       "      <td>0</td>\n",
       "      <td>0</td>\n",
       "      <td>0</td>\n",
       "      <td>0</td>\n",
       "      <td>0</td>\n",
       "      <td>0</td>\n",
       "      <td>0</td>\n",
       "      <td>0</td>\n",
       "      <td>0</td>\n",
       "      <td>...</td>\n",
       "      <td>0</td>\n",
       "      <td>0</td>\n",
       "      <td>0</td>\n",
       "      <td>0</td>\n",
       "      <td>0</td>\n",
       "      <td>0</td>\n",
       "      <td>0</td>\n",
       "      <td>0</td>\n",
       "      <td>0</td>\n",
       "      <td>0</td>\n",
       "    </tr>\n",
       "    <tr>\n",
       "      <th>2</th>\n",
       "      <td>1</td>\n",
       "      <td>0</td>\n",
       "      <td>0</td>\n",
       "      <td>0</td>\n",
       "      <td>0</td>\n",
       "      <td>0</td>\n",
       "      <td>0</td>\n",
       "      <td>0</td>\n",
       "      <td>0</td>\n",
       "      <td>0</td>\n",
       "      <td>...</td>\n",
       "      <td>0</td>\n",
       "      <td>0</td>\n",
       "      <td>0</td>\n",
       "      <td>0</td>\n",
       "      <td>0</td>\n",
       "      <td>0</td>\n",
       "      <td>0</td>\n",
       "      <td>0</td>\n",
       "      <td>0</td>\n",
       "      <td>0</td>\n",
       "    </tr>\n",
       "    <tr>\n",
       "      <th>3</th>\n",
       "      <td>4</td>\n",
       "      <td>0</td>\n",
       "      <td>0</td>\n",
       "      <td>0</td>\n",
       "      <td>0</td>\n",
       "      <td>0</td>\n",
       "      <td>0</td>\n",
       "      <td>0</td>\n",
       "      <td>0</td>\n",
       "      <td>0</td>\n",
       "      <td>...</td>\n",
       "      <td>0</td>\n",
       "      <td>0</td>\n",
       "      <td>0</td>\n",
       "      <td>0</td>\n",
       "      <td>0</td>\n",
       "      <td>0</td>\n",
       "      <td>0</td>\n",
       "      <td>0</td>\n",
       "      <td>0</td>\n",
       "      <td>0</td>\n",
       "    </tr>\n",
       "    <tr>\n",
       "      <th>4</th>\n",
       "      <td>0</td>\n",
       "      <td>0</td>\n",
       "      <td>0</td>\n",
       "      <td>0</td>\n",
       "      <td>0</td>\n",
       "      <td>0</td>\n",
       "      <td>0</td>\n",
       "      <td>0</td>\n",
       "      <td>0</td>\n",
       "      <td>0</td>\n",
       "      <td>...</td>\n",
       "      <td>0</td>\n",
       "      <td>0</td>\n",
       "      <td>0</td>\n",
       "      <td>0</td>\n",
       "      <td>0</td>\n",
       "      <td>0</td>\n",
       "      <td>0</td>\n",
       "      <td>0</td>\n",
       "      <td>0</td>\n",
       "      <td>0</td>\n",
       "    </tr>\n",
       "  </tbody>\n",
       "</table>\n",
       "<p>5 rows × 785 columns</p>\n",
       "</div>"
      ],
      "text/plain": [
       "   label  pixel0  pixel1  pixel2  pixel3  pixel4  pixel5  pixel6  pixel7  \\\n",
       "0      1       0       0       0       0       0       0       0       0   \n",
       "1      0       0       0       0       0       0       0       0       0   \n",
       "2      1       0       0       0       0       0       0       0       0   \n",
       "3      4       0       0       0       0       0       0       0       0   \n",
       "4      0       0       0       0       0       0       0       0       0   \n",
       "\n",
       "   pixel8  ...  pixel774  pixel775  pixel776  pixel777  pixel778  pixel779  \\\n",
       "0       0  ...         0         0         0         0         0         0   \n",
       "1       0  ...         0         0         0         0         0         0   \n",
       "2       0  ...         0         0         0         0         0         0   \n",
       "3       0  ...         0         0         0         0         0         0   \n",
       "4       0  ...         0         0         0         0         0         0   \n",
       "\n",
       "   pixel780  pixel781  pixel782  pixel783  \n",
       "0         0         0         0         0  \n",
       "1         0         0         0         0  \n",
       "2         0         0         0         0  \n",
       "3         0         0         0         0  \n",
       "4         0         0         0         0  \n",
       "\n",
       "[5 rows x 785 columns]"
      ]
     },
     "execution_count": 2,
     "metadata": {},
     "output_type": "execute_result"
    }
   ],
   "source": [
    "# Reading Data from provided .csv file\n",
    "data = pd.read_csv('../input/digit-recognizer/train.csv')\n",
    "print(data.info())\n",
    "data.head()"
   ]
  },
  {
   "cell_type": "code",
   "execution_count": 3,
   "id": "chubby-amino",
   "metadata": {
    "execution": {
     "iopub.execute_input": "2021-07-02T12:13:31.967532Z",
     "iopub.status.busy": "2021-07-02T12:13:31.966868Z",
     "iopub.status.idle": "2021-07-02T12:13:31.977366Z",
     "shell.execute_reply": "2021-07-02T12:13:31.976610Z",
     "shell.execute_reply.started": "2021-07-02T12:03:53.748439Z"
    },
    "papermill": {
     "duration": 0.035438,
     "end_time": "2021-07-02T12:13:31.977526",
     "exception": false,
     "start_time": "2021-07-02T12:13:31.942088",
     "status": "completed"
    },
    "tags": []
   },
   "outputs": [
    {
     "data": {
      "text/plain": [
       "(42000, 10)"
      ]
     },
     "execution_count": 3,
     "metadata": {},
     "output_type": "execute_result"
    }
   ],
   "source": [
    "# Retrieving labels from Data\n",
    "labels = data['label']\n",
    "\n",
    "# Converting into One-Hot Vectors for Classification\n",
    "labels = pd.get_dummies(labels)\n",
    "labels.shape"
   ]
  },
  {
   "cell_type": "code",
   "execution_count": 4,
   "id": "unsigned-amazon",
   "metadata": {
    "execution": {
     "iopub.execute_input": "2021-07-02T12:13:32.024839Z",
     "iopub.status.busy": "2021-07-02T12:13:32.023902Z",
     "iopub.status.idle": "2021-07-02T12:13:32.029691Z",
     "shell.execute_reply": "2021-07-02T12:13:32.029078Z",
     "shell.execute_reply.started": "2021-07-02T12:03:55.367711Z"
    },
    "papermill": {
     "duration": 0.032547,
     "end_time": "2021-07-02T12:13:32.029827",
     "exception": false,
     "start_time": "2021-07-02T12:13:31.997280",
     "status": "completed"
    },
    "tags": []
   },
   "outputs": [
    {
     "data": {
      "text/plain": [
       "(42000, 784)"
      ]
     },
     "execution_count": 4,
     "metadata": {},
     "output_type": "execute_result"
    }
   ],
   "source": [
    "# Retrieving all pixel columns from Data\n",
    "data = data.iloc[:,1:]\n",
    "data.shape "
   ]
  },
  {
   "cell_type": "code",
   "execution_count": 5,
   "id": "dental-wayne",
   "metadata": {
    "execution": {
     "iopub.execute_input": "2021-07-02T12:13:32.078639Z",
     "iopub.status.busy": "2021-07-02T12:13:32.077178Z",
     "iopub.status.idle": "2021-07-02T12:13:32.083481Z",
     "shell.execute_reply": "2021-07-02T12:13:32.082534Z",
     "shell.execute_reply.started": "2021-07-02T12:04:00.270717Z"
    },
    "papermill": {
     "duration": 0.034002,
     "end_time": "2021-07-02T12:13:32.083707",
     "exception": false,
     "start_time": "2021-07-02T12:13:32.049705",
     "status": "completed"
    },
    "tags": []
   },
   "outputs": [
    {
     "data": {
      "text/plain": [
       "((40000, 784), (40000, 10))"
      ]
     },
     "execution_count": 5,
     "metadata": {},
     "output_type": "execute_result"
    }
   ],
   "source": [
    "# Taking 40000 images to Train the model\n",
    "train_data = data[2000:]\n",
    "train_labels = labels[2000:]\n",
    "\n",
    "train_data.shape, train_labels.shape"
   ]
  },
  {
   "cell_type": "code",
   "execution_count": 6,
   "id": "contained-hydrogen",
   "metadata": {
    "execution": {
     "iopub.execute_input": "2021-07-02T12:13:32.140633Z",
     "iopub.status.busy": "2021-07-02T12:13:32.139342Z",
     "iopub.status.idle": "2021-07-02T12:13:32.144726Z",
     "shell.execute_reply": "2021-07-02T12:13:32.143998Z",
     "shell.execute_reply.started": "2021-07-02T12:04:01.425713Z"
    },
    "papermill": {
     "duration": 0.035044,
     "end_time": "2021-07-02T12:13:32.144929",
     "exception": false,
     "start_time": "2021-07-02T12:13:32.109885",
     "status": "completed"
    },
    "tags": []
   },
   "outputs": [
    {
     "data": {
      "text/plain": [
       "((2000, 784), (2000, 10))"
      ]
     },
     "execution_count": 6,
     "metadata": {},
     "output_type": "execute_result"
    }
   ],
   "source": [
    "# Taking 2000 images for Cross Validation\n",
    "test_data = data[:2000]\n",
    "test_labels = labels[:2000]\n",
    "\n",
    "test_data.shape, test_labels.shape"
   ]
  },
  {
   "cell_type": "code",
   "execution_count": 7,
   "id": "competent-romania",
   "metadata": {
    "execution": {
     "iopub.execute_input": "2021-07-02T12:13:32.198810Z",
     "iopub.status.busy": "2021-07-02T12:13:32.198145Z",
     "iopub.status.idle": "2021-07-02T12:13:32.320548Z",
     "shell.execute_reply": "2021-07-02T12:13:32.319505Z",
     "shell.execute_reply.started": "2021-07-02T12:04:03.508566Z"
    },
    "papermill": {
     "duration": 0.152793,
     "end_time": "2021-07-02T12:13:32.320798",
     "exception": false,
     "start_time": "2021-07-02T12:13:32.168005",
     "status": "completed"
    },
    "scrolled": true,
    "tags": []
   },
   "outputs": [
    {
     "name": "stdout",
     "output_type": "stream",
     "text": [
      "Model: \"sequential\"\n",
      "_________________________________________________________________\n",
      "Layer (type)                 Output Shape              Param #   \n",
      "=================================================================\n",
      "dense (Dense)                (None, 64)                50240     \n",
      "_________________________________________________________________\n",
      "dense_1 (Dense)              (None, 128)               8320      \n",
      "_________________________________________________________________\n",
      "dense_2 (Dense)              (None, 256)               33024     \n",
      "_________________________________________________________________\n",
      "dense_3 (Dense)              (None, 10)                2570      \n",
      "=================================================================\n",
      "Total params: 94,154\n",
      "Trainable params: 94,154\n",
      "Non-trainable params: 0\n",
      "_________________________________________________________________\n"
     ]
    }
   ],
   "source": [
    "# Standard loc and scale values for kernel initializer \n",
    "def initialize_weights(shape, dtype=None):\n",
    "    \n",
    "    return np.random.normal(loc = 0.0, scale = 1e-2, size = shape)\n",
    "\n",
    "# Standard loc and scale values for bias initializer\n",
    "def initialize_bias(shape, dtype=None):\n",
    "    \n",
    "    return np.random.normal(loc = 0.5, scale = 1e-2, size = shape)\n",
    "\n",
    "def DeepLearningModel(input_shape):\n",
    "    model = Sequential()\n",
    "    \n",
    "    model.add(Input(input_shape))\n",
    "    \n",
    "    model.add(Dense(64, activation='relu', kernel_initializer=initialize_weights, bias_initializer=initialize_bias, kernel_regularizer=l2(3e-3)))\n",
    "    \n",
    "    model.add(Dense(128, activation='relu', kernel_initializer=initialize_weights, bias_initializer=initialize_bias, kernel_regularizer=l2(3e-3)))\n",
    "\n",
    "    model.add(Dense(256, activation='relu', kernel_initializer=initialize_weights, bias_initializer=initialize_bias, kernel_regularizer=l2(3e-3)))\n",
    "                \n",
    "    model.add(Dense(10, activation='softmax', kernel_initializer=initialize_weights, bias_initializer=initialize_bias, kernel_regularizer=l2(3e-3)))    \n",
    "    \n",
    "    return model\n",
    "\n",
    "\n",
    "model = DeepLearningModel((784))\n",
    "model.summary()"
   ]
  },
  {
   "cell_type": "code",
   "execution_count": 8,
   "id": "continuous-saudi",
   "metadata": {
    "execution": {
     "iopub.execute_input": "2021-07-02T12:13:32.379471Z",
     "iopub.status.busy": "2021-07-02T12:13:32.374289Z",
     "iopub.status.idle": "2021-07-02T12:14:48.314299Z",
     "shell.execute_reply": "2021-07-02T12:14:48.313421Z",
     "shell.execute_reply.started": "2021-07-02T12:04:08.071844Z"
    },
    "papermill": {
     "duration": 75.972165,
     "end_time": "2021-07-02T12:14:48.314491",
     "exception": false,
     "start_time": "2021-07-02T12:13:32.342326",
     "status": "completed"
    },
    "scrolled": true,
    "tags": []
   },
   "outputs": [
    {
     "name": "stdout",
     "output_type": "stream",
     "text": [
      "Epoch 1/50\n",
      "313/313 [==============================] - 2s 5ms/step - loss: 0.8860 - accuracy: 0.7409\n",
      "Epoch 2/50\n",
      "313/313 [==============================] - 1s 5ms/step - loss: 0.2464 - accuracy: 0.9371\n",
      "Epoch 3/50\n",
      "313/313 [==============================] - 1s 5ms/step - loss: 0.1835 - accuracy: 0.9587\n",
      "Epoch 4/50\n",
      "313/313 [==============================] - 1s 5ms/step - loss: 0.1536 - accuracy: 0.9656\n",
      "Epoch 5/50\n",
      "313/313 [==============================] - 1s 5ms/step - loss: 0.1375 - accuracy: 0.9715\n",
      "Epoch 6/50\n",
      "313/313 [==============================] - 1s 5ms/step - loss: 0.1203 - accuracy: 0.9781\n",
      "Epoch 7/50\n",
      "313/313 [==============================] - 1s 5ms/step - loss: 0.1085 - accuracy: 0.9813\n",
      "Epoch 8/50\n",
      "313/313 [==============================] - 1s 5ms/step - loss: 0.1007 - accuracy: 0.9839\n",
      "Epoch 9/50\n",
      "313/313 [==============================] - 1s 5ms/step - loss: 0.0978 - accuracy: 0.9848\n",
      "Epoch 10/50\n",
      "313/313 [==============================] - 1s 5ms/step - loss: 0.0914 - accuracy: 0.9869\n",
      "Epoch 11/50\n",
      "313/313 [==============================] - 2s 5ms/step - loss: 0.0936 - accuracy: 0.9859\n",
      "Epoch 12/50\n",
      "313/313 [==============================] - 2s 5ms/step - loss: 0.0866 - accuracy: 0.9891\n",
      "Epoch 13/50\n",
      "313/313 [==============================] - 1s 5ms/step - loss: 0.0834 - accuracy: 0.9894\n",
      "Epoch 14/50\n",
      "313/313 [==============================] - 1s 5ms/step - loss: 0.0835 - accuracy: 0.9897\n",
      "Epoch 15/50\n",
      "313/313 [==============================] - 1s 5ms/step - loss: 0.0834 - accuracy: 0.9902\n",
      "Epoch 16/50\n",
      "313/313 [==============================] - 1s 5ms/step - loss: 0.0792 - accuracy: 0.9918\n",
      "Epoch 17/50\n",
      "313/313 [==============================] - 2s 5ms/step - loss: 0.0807 - accuracy: 0.9914\n",
      "Epoch 18/50\n",
      "313/313 [==============================] - 1s 5ms/step - loss: 0.0789 - accuracy: 0.9913\n",
      "Epoch 19/50\n",
      "313/313 [==============================] - 1s 5ms/step - loss: 0.0762 - accuracy: 0.9933\n",
      "Epoch 20/50\n",
      "313/313 [==============================] - 1s 5ms/step - loss: 0.0796 - accuracy: 0.9916\n",
      "Epoch 21/50\n",
      "313/313 [==============================] - 2s 5ms/step - loss: 0.0727 - accuracy: 0.9943\n",
      "Epoch 22/50\n",
      "313/313 [==============================] - 2s 5ms/step - loss: 0.0721 - accuracy: 0.9947\n",
      "Epoch 23/50\n",
      "313/313 [==============================] - 2s 5ms/step - loss: 0.0723 - accuracy: 0.9942\n",
      "Epoch 24/50\n",
      "313/313 [==============================] - 1s 5ms/step - loss: 0.0727 - accuracy: 0.9947\n",
      "Epoch 25/50\n",
      "313/313 [==============================] - 1s 5ms/step - loss: 0.0704 - accuracy: 0.9948\n",
      "Epoch 26/50\n",
      "313/313 [==============================] - 1s 5ms/step - loss: 0.0767 - accuracy: 0.9923\n",
      "Epoch 27/50\n",
      "313/313 [==============================] - 1s 5ms/step - loss: 0.0726 - accuracy: 0.9939\n",
      "Epoch 28/50\n",
      "313/313 [==============================] - 1s 5ms/step - loss: 0.0720 - accuracy: 0.9935\n",
      "Epoch 29/50\n",
      "313/313 [==============================] - 1s 5ms/step - loss: 0.0865 - accuracy: 0.9906\n",
      "Epoch 30/50\n",
      "313/313 [==============================] - 2s 5ms/step - loss: 0.0700 - accuracy: 0.9951\n",
      "Epoch 31/50\n",
      "313/313 [==============================] - 2s 5ms/step - loss: 0.0733 - accuracy: 0.9932\n",
      "Epoch 32/50\n",
      "313/313 [==============================] - 1s 5ms/step - loss: 0.0676 - accuracy: 0.9959\n",
      "Epoch 33/50\n",
      "313/313 [==============================] - 2s 5ms/step - loss: 0.0729 - accuracy: 0.9936\n",
      "Epoch 34/50\n",
      "313/313 [==============================] - 1s 5ms/step - loss: 0.0725 - accuracy: 0.9937\n",
      "Epoch 35/50\n",
      "313/313 [==============================] - 1s 5ms/step - loss: 0.0663 - accuracy: 0.9959\n",
      "Epoch 36/50\n",
      "313/313 [==============================] - 2s 5ms/step - loss: 0.0685 - accuracy: 0.9954\n",
      "Epoch 37/50\n",
      "313/313 [==============================] - 2s 5ms/step - loss: 0.0695 - accuracy: 0.9946\n",
      "Epoch 38/50\n",
      "313/313 [==============================] - 2s 5ms/step - loss: 0.0775 - accuracy: 0.9915\n",
      "Epoch 39/50\n",
      "313/313 [==============================] - 2s 5ms/step - loss: 0.0672 - accuracy: 0.9955\n",
      "Epoch 40/50\n",
      "313/313 [==============================] - 2s 5ms/step - loss: 0.0676 - accuracy: 0.9957\n",
      "Epoch 41/50\n",
      "313/313 [==============================] - 2s 5ms/step - loss: 0.0686 - accuracy: 0.9949\n",
      "Epoch 42/50\n",
      "313/313 [==============================] - 1s 5ms/step - loss: 0.0614 - accuracy: 0.9978\n",
      "Epoch 43/50\n",
      "313/313 [==============================] - 1s 5ms/step - loss: 0.0682 - accuracy: 0.9948\n",
      "Epoch 44/50\n",
      "313/313 [==============================] - 1s 5ms/step - loss: 0.0706 - accuracy: 0.9946\n",
      "Epoch 45/50\n",
      "313/313 [==============================] - 1s 5ms/step - loss: 0.0629 - accuracy: 0.9971\n",
      "Epoch 46/50\n",
      "313/313 [==============================] - 1s 5ms/step - loss: 0.0661 - accuracy: 0.9957\n",
      "Epoch 47/50\n",
      "313/313 [==============================] - 1s 5ms/step - loss: 0.0660 - accuracy: 0.9961\n",
      "Epoch 48/50\n",
      "313/313 [==============================] - 1s 5ms/step - loss: 0.0713 - accuracy: 0.9933\n",
      "Epoch 49/50\n",
      "313/313 [==============================] - 1s 5ms/step - loss: 0.0689 - accuracy: 0.9948\n",
      "Epoch 50/50\n",
      "313/313 [==============================] - 1s 5ms/step - loss: 0.0642 - accuracy: 0.9961\n"
     ]
    }
   ],
   "source": [
    "# Hyperparameters\n",
    "lr = 0.0003\n",
    "epochs = 50\n",
    "batch_size = 128\n",
    "\n",
    "optimizer = Adam(lr)\n",
    "model.compile(optimizer=optimizer, loss='categorical_crossentropy', metrics=['accuracy'])\n",
    "history = model.fit(train_data, train_labels, epochs=epochs, batch_size=batch_size)"
   ]
  },
  {
   "cell_type": "code",
   "execution_count": 9,
   "id": "recent-italy",
   "metadata": {
    "execution": {
     "iopub.execute_input": "2021-07-02T12:14:49.297522Z",
     "iopub.status.busy": "2021-07-02T12:14:49.294227Z",
     "iopub.status.idle": "2021-07-02T12:14:49.673086Z",
     "shell.execute_reply": "2021-07-02T12:14:49.672254Z",
     "shell.execute_reply.started": "2021-07-02T12:05:15.792985Z"
    },
    "papermill": {
     "duration": 0.867914,
     "end_time": "2021-07-02T12:14:49.673303",
     "exception": false,
     "start_time": "2021-07-02T12:14:48.805389",
     "status": "completed"
    },
    "tags": []
   },
   "outputs": [
    {
     "name": "stdout",
     "output_type": "stream",
     "text": [
      "63/63 [==============================] - 0s 2ms/step - loss: 0.1322 - accuracy: 0.9795\n"
     ]
    },
    {
     "data": {
      "text/plain": [
       "[0.13216537237167358, 0.9794999957084656]"
      ]
     },
     "execution_count": 9,
     "metadata": {},
     "output_type": "execute_result"
    }
   ],
   "source": [
    "# Evaluating model using Validation Data\n",
    "model.evaluate(test_data, test_labels)"
   ]
  },
  {
   "cell_type": "code",
   "execution_count": 10,
   "id": "julian-apartment",
   "metadata": {
    "execution": {
     "iopub.execute_input": "2021-07-02T12:14:50.631055Z",
     "iopub.status.busy": "2021-07-02T12:14:50.630318Z",
     "iopub.status.idle": "2021-07-02T12:14:53.092897Z",
     "shell.execute_reply": "2021-07-02T12:14:53.093504Z",
     "shell.execute_reply.started": "2021-07-02T12:05:28.256611Z"
    },
    "papermill": {
     "duration": 2.934705,
     "end_time": "2021-07-02T12:14:53.093747",
     "exception": false,
     "start_time": "2021-07-02T12:14:50.159042",
     "status": "completed"
    },
    "tags": []
   },
   "outputs": [
    {
     "name": "stdout",
     "output_type": "stream",
     "text": [
      "<class 'pandas.core.frame.DataFrame'>\n",
      "RangeIndex: 28000 entries, 0 to 27999\n",
      "Columns: 784 entries, pixel0 to pixel783\n",
      "dtypes: int64(784)\n",
      "memory usage: 167.5 MB\n"
     ]
    }
   ],
   "source": [
    "# Reading Test Dataset\n",
    "test = pd.read_csv('../input/digit-recognizer/test.csv')\n",
    "test.info()"
   ]
  },
  {
   "cell_type": "code",
   "execution_count": 11,
   "id": "everyday-commitment",
   "metadata": {
    "execution": {
     "iopub.execute_input": "2021-07-02T12:14:54.103793Z",
     "iopub.status.busy": "2021-07-02T12:14:54.103141Z",
     "iopub.status.idle": "2021-07-02T12:14:56.162425Z",
     "shell.execute_reply": "2021-07-02T12:14:56.161579Z",
     "shell.execute_reply.started": "2021-07-02T12:06:36.509684Z"
    },
    "papermill": {
     "duration": 2.564109,
     "end_time": "2021-07-02T12:14:56.162648",
     "exception": false,
     "start_time": "2021-07-02T12:14:53.598539",
     "status": "completed"
    },
    "tags": []
   },
   "outputs": [],
   "source": [
    "# Making Predictions on existing model.\n",
    "prediction = model.predict(test)\n",
    "\n",
    "# Rounding the prediction and converting float64 output to int64 output.\n",
    "prediction = np.array(np.round(prediction), dtype='int64')\n",
    "\n",
    "# Converting one-hot encoding into label encoding\n",
    "prediction = (np.argmax(prediction, axis=1)).reshape(-1, 1)\n",
    "\n",
    "# Creating a DataFrame similar to Example Submission\n",
    "out = [{'ImageId': i+1, 'Label': prediction[i][0]} for i in range(len(prediction))]\n",
    "\n",
    "# Creating a .csv file from the DataFrame\n",
    "pd.DataFrame(out).to_csv('./submission.csv', index=False)"
   ]
  },
  {
   "cell_type": "markdown",
   "id": "brown-theta",
   "metadata": {
    "papermill": {
     "duration": 0.490498,
     "end_time": "2021-07-02T12:14:57.154357",
     "exception": false,
     "start_time": "2021-07-02T12:14:56.663859",
     "status": "completed"
    },
    "tags": []
   },
   "source": [
    "## Achieved 97% accuracy with Deep Learning Classifier\n",
    "\n",
    "Now let's see how a Convolutional Neural Network will perform on the Dataset."
   ]
  },
  {
   "cell_type": "code",
   "execution_count": 12,
   "id": "absent-burst",
   "metadata": {
    "execution": {
     "iopub.execute_input": "2021-07-02T12:14:58.099655Z",
     "iopub.status.busy": "2021-07-02T12:14:58.099038Z",
     "iopub.status.idle": "2021-07-02T12:14:58.242576Z",
     "shell.execute_reply": "2021-07-02T12:14:58.241796Z",
     "shell.execute_reply.started": "2021-07-02T12:06:54.430184Z"
    },
    "papermill": {
     "duration": 0.618767,
     "end_time": "2021-07-02T12:14:58.242751",
     "exception": false,
     "start_time": "2021-07-02T12:14:57.623984",
     "status": "completed"
    },
    "tags": []
   },
   "outputs": [
    {
     "data": {
      "text/plain": [
       "((42000, 28, 28, 1), (42000, 10))"
      ]
     },
     "execution_count": 12,
     "metadata": {},
     "output_type": "execute_result"
    }
   ],
   "source": [
    "imgdata = np.reshape(np.array(data),(data.shape[0],28,28,1))\n",
    "imglabels = labels\n",
    "\n",
    "imgdata.shape, imglabels.shape"
   ]
  },
  {
   "cell_type": "code",
   "execution_count": 13,
   "id": "emotional-marketing",
   "metadata": {
    "execution": {
     "iopub.execute_input": "2021-07-02T12:14:59.232753Z",
     "iopub.status.busy": "2021-07-02T12:14:59.231725Z",
     "iopub.status.idle": "2021-07-02T12:14:59.238729Z",
     "shell.execute_reply": "2021-07-02T12:14:59.239387Z",
     "shell.execute_reply.started": "2021-07-02T12:07:01.255308Z"
    },
    "papermill": {
     "duration": 0.511538,
     "end_time": "2021-07-02T12:14:59.239578",
     "exception": false,
     "start_time": "2021-07-02T12:14:58.728040",
     "status": "completed"
    },
    "tags": []
   },
   "outputs": [
    {
     "data": {
      "text/plain": [
       "((40000, 28, 28, 1), (40000, 10))"
      ]
     },
     "execution_count": 13,
     "metadata": {},
     "output_type": "execute_result"
    }
   ],
   "source": [
    "# Taking 40000 images to Train the model\n",
    "img_train_data = imgdata[2000:]\n",
    "img_train_labels = imglabels[2000:]\n",
    "\n",
    "img_train_data.shape, img_train_labels.shape"
   ]
  },
  {
   "cell_type": "code",
   "execution_count": 14,
   "id": "stupid-nicaragua",
   "metadata": {
    "execution": {
     "iopub.execute_input": "2021-07-02T12:15:00.191273Z",
     "iopub.status.busy": "2021-07-02T12:15:00.190284Z",
     "iopub.status.idle": "2021-07-02T12:15:00.196963Z",
     "shell.execute_reply": "2021-07-02T12:15:00.197414Z",
     "shell.execute_reply.started": "2021-07-02T12:07:02.836798Z"
    },
    "papermill": {
     "duration": 0.48302,
     "end_time": "2021-07-02T12:15:00.197588",
     "exception": false,
     "start_time": "2021-07-02T12:14:59.714568",
     "status": "completed"
    },
    "tags": []
   },
   "outputs": [
    {
     "data": {
      "text/plain": [
       "((2000, 28, 28, 1), (2000, 10))"
      ]
     },
     "execution_count": 14,
     "metadata": {},
     "output_type": "execute_result"
    }
   ],
   "source": [
    "# Taking 2000 images for Cross Validation\n",
    "img_test_data = imgdata[:2000]\n",
    "img_test_labels = imglabels[:2000]\n",
    "\n",
    "img_test_data.shape, img_test_labels.shape"
   ]
  },
  {
   "cell_type": "code",
   "execution_count": 15,
   "id": "worldwide-cooperative",
   "metadata": {
    "execution": {
     "iopub.execute_input": "2021-07-02T12:15:01.144358Z",
     "iopub.status.busy": "2021-07-02T12:15:01.143409Z",
     "iopub.status.idle": "2021-07-02T12:15:03.986044Z",
     "shell.execute_reply": "2021-07-02T12:15:03.985048Z",
     "shell.execute_reply.started": "2021-07-02T12:09:09.177471Z"
    },
    "papermill": {
     "duration": 3.317606,
     "end_time": "2021-07-02T12:15:03.986331",
     "exception": false,
     "start_time": "2021-07-02T12:15:00.668725",
     "status": "completed"
    },
    "tags": []
   },
   "outputs": [
    {
     "data": {
      "image/png": "[encoded data removed]",
      "text/plain": [
       "<Figure size 432x432 with 25 Axes>"
      ]
     },
     "metadata": {},
     "output_type": "display_data"
    }
   ],
   "source": [
    "# Plotting Dataset\n",
    "\n",
    "plt.figure(figsize=(6, 6))\n",
    "for i in range(25):\n",
    "    plt.subplot(5, 5, i + 1)\n",
    "    plt.xticks([])\n",
    "    plt.yticks([])\n",
    "    plt.imshow(img_train_data[i])\n",
    "    plt.tight_layout()\n",
    "plt.show()"
   ]
  },
  {
   "cell_type": "code",
   "execution_count": 16,
   "id": "studied-manner",
   "metadata": {
    "execution": {
     "iopub.execute_input": "2021-07-02T12:15:04.999319Z",
     "iopub.status.busy": "2021-07-02T12:15:04.998308Z",
     "iopub.status.idle": "2021-07-02T12:15:05.000169Z",
     "shell.execute_reply": "2021-07-02T12:15:05.000706Z",
     "shell.execute_reply.started": "2021-07-02T12:09:13.258381Z"
    },
    "papermill": {
     "duration": 0.488808,
     "end_time": "2021-07-02T12:15:05.001137",
     "exception": false,
     "start_time": "2021-07-02T12:15:04.512329",
     "status": "completed"
    },
    "tags": []
   },
   "outputs": [],
   "source": [
    "# Building an Image Dataset for a Convolutional Neural Network.\n",
    "def convolutional_model(input_shape):\n",
    "    model = Sequential()\n",
    "    \n",
    "    model.add(Conv2D(32, (3,3), activation='relu', input_shape=input_shape,\n",
    "                   kernel_initializer=initialize_weights, kernel_regularizer=l2(2e-4)))\n",
    "    \n",
    "    model.add(MaxPooling2D())\n",
    "    \n",
    "    model.add(Dropout(0.25))\n",
    "    \n",
    "    model.add(Conv2D(32, (3,3), activation='relu', kernel_initializer=initialize_weights,\n",
    "                     bias_initializer=initialize_bias, kernel_regularizer=l2(2e-4)))\n",
    "    \n",
    "    model.add(MaxPooling2D())\n",
    "    \n",
    "    model.add(Dropout(0.25))\n",
    "    \n",
    "    model.add(Conv2D(32, (3,3), activation='relu', kernel_initializer=initialize_weights,\n",
    "                     bias_initializer=initialize_bias, kernel_regularizer=l2(2e-4)))\n",
    "    \n",
    "    model.add(Flatten())\n",
    "    \n",
    "    model.add(Dense(1024, activation='relu',\n",
    "                   kernel_regularizer=l2(1e-3),\n",
    "                   kernel_initializer=initialize_weights,bias_initializer=initialize_bias))\n",
    "    \n",
    "    model.add(Dense(10, activation='softmax',\n",
    "                   kernel_regularizer=l2(1e-3),\n",
    "                   kernel_initializer=initialize_weights,bias_initializer=initialize_bias))\n",
    "    return model"
   ]
  },
  {
   "cell_type": "code",
   "execution_count": 17,
   "id": "proprietary-morris",
   "metadata": {
    "execution": {
     "iopub.execute_input": "2021-07-02T12:15:06.078344Z",
     "iopub.status.busy": "2021-07-02T12:15:06.077641Z",
     "iopub.status.idle": "2021-07-02T12:15:06.202130Z",
     "shell.execute_reply": "2021-07-02T12:15:06.201308Z",
     "shell.execute_reply.started": "2021-07-02T12:09:19.068958Z"
    },
    "papermill": {
     "duration": 0.614134,
     "end_time": "2021-07-02T12:15:06.202323",
     "exception": false,
     "start_time": "2021-07-02T12:15:05.588189",
     "status": "completed"
    },
    "tags": []
   },
   "outputs": [
    {
     "name": "stdout",
     "output_type": "stream",
     "text": [
      "Model: \"sequential_1\"\n",
      "_________________________________________________________________\n",
      "Layer (type)                 Output Shape              Param #   \n",
      "=================================================================\n",
      "conv2d (Conv2D)              (None, 26, 26, 32)        320       \n",
      "_________________________________________________________________\n",
      "max_pooling2d (MaxPooling2D) (None, 13, 13, 32)        0         \n",
      "_________________________________________________________________\n",
      "dropout (Dropout)            (None, 13, 13, 32)        0         \n",
      "_________________________________________________________________\n",
      "conv2d_1 (Conv2D)            (None, 11, 11, 32)        9248      \n",
      "_________________________________________________________________\n",
      "max_pooling2d_1 (MaxPooling2 (None, 5, 5, 32)          0         \n",
      "_________________________________________________________________\n",
      "dropout_1 (Dropout)          (None, 5, 5, 32)          0         \n",
      "_________________________________________________________________\n",
      "conv2d_2 (Conv2D)            (None, 3, 3, 32)          9248      \n",
      "_________________________________________________________________\n",
      "flatten (Flatten)            (None, 288)               0         \n",
      "_________________________________________________________________\n",
      "dense_4 (Dense)              (None, 1024)              295936    \n",
      "_________________________________________________________________\n",
      "dense_5 (Dense)              (None, 10)                10250     \n",
      "=================================================================\n",
      "Total params: 325,002\n",
      "Trainable params: 325,002\n",
      "Non-trainable params: 0\n",
      "_________________________________________________________________\n"
     ]
    }
   ],
   "source": [
    "model = convolutional_model((28,28,1))\n",
    "model.summary()"
   ]
  },
  {
   "cell_type": "code",
   "execution_count": 18,
   "id": "urban-competition",
   "metadata": {
    "execution": {
     "iopub.execute_input": "2021-07-02T12:15:07.182341Z",
     "iopub.status.busy": "2021-07-02T12:15:07.179120Z",
     "iopub.status.idle": "2021-07-02T12:18:10.070834Z",
     "shell.execute_reply": "2021-07-02T12:18:10.072035Z",
     "shell.execute_reply.started": "2021-07-02T12:09:22.803613Z"
    },
    "papermill": {
     "duration": 183.384002,
     "end_time": "2021-07-02T12:18:10.072253",
     "exception": false,
     "start_time": "2021-07-02T12:15:06.688251",
     "status": "completed"
    },
    "tags": []
   },
   "outputs": [
    {
     "name": "stdout",
     "output_type": "stream",
     "text": [
      "Epoch 1/10\n",
      "313/313 [==============================] - 19s 59ms/step - loss: 0.9744 - accuracy: 0.6864\n",
      "Epoch 2/10\n",
      "313/313 [==============================] - 19s 61ms/step - loss: 0.1589 - accuracy: 0.9620\n",
      "Epoch 3/10\n",
      "313/313 [==============================] - 18s 59ms/step - loss: 0.1206 - accuracy: 0.9730\n",
      "Epoch 4/10\n",
      "313/313 [==============================] - 18s 59ms/step - loss: 0.1023 - accuracy: 0.9769\n",
      "Epoch 5/10\n",
      "313/313 [==============================] - 18s 56ms/step - loss: 0.0891 - accuracy: 0.9798\n",
      "Epoch 6/10\n",
      "313/313 [==============================] - 18s 58ms/step - loss: 0.0788 - accuracy: 0.9837\n",
      "Epoch 7/10\n",
      "313/313 [==============================] - 18s 59ms/step - loss: 0.0752 - accuracy: 0.9847\n",
      "Epoch 8/10\n",
      "313/313 [==============================] - 17s 55ms/step - loss: 0.0695 - accuracy: 0.9860\n",
      "Epoch 9/10\n",
      "313/313 [==============================] - 18s 58ms/step - loss: 0.0642 - accuracy: 0.9870\n",
      "Epoch 10/10\n",
      "313/313 [==============================] - 18s 56ms/step - loss: 0.0665 - accuracy: 0.9864\n"
     ]
    }
   ],
   "source": [
    "# Hyperparameters\n",
    "lr = 0.0003\n",
    "epochs = 10\n",
    "batch_size = 128\n",
    "\n",
    "optimizer = Adam(lr)\n",
    "model.compile(optimizer=optimizer, loss='categorical_crossentropy', metrics=['accuracy'])\n",
    "history = model.fit(img_train_data, img_train_labels, epochs=epochs, batch_size=batch_size)"
   ]
  },
  {
   "cell_type": "code",
   "execution_count": 19,
   "id": "thermal-handbook",
   "metadata": {
    "execution": {
     "iopub.execute_input": "2021-07-02T12:18:12.985364Z",
     "iopub.status.busy": "2021-07-02T12:18:12.984635Z",
     "iopub.status.idle": "2021-07-02T12:18:13.620224Z",
     "shell.execute_reply": "2021-07-02T12:18:13.619671Z",
     "shell.execute_reply.started": "2021-07-02T12:12:01.741373Z"
    },
    "papermill": {
     "duration": 2.056671,
     "end_time": "2021-07-02T12:18:13.620371",
     "exception": false,
     "start_time": "2021-07-02T12:18:11.563700",
     "status": "completed"
    },
    "tags": []
   },
   "outputs": [
    {
     "name": "stdout",
     "output_type": "stream",
     "text": [
      "63/63 [==============================] - 1s 6ms/step - loss: 0.0604 - accuracy: 0.9905\n"
     ]
    },
    {
     "data": {
      "text/plain": [
       "[0.06041163206100464, 0.9904999732971191]"
      ]
     },
     "execution_count": 19,
     "metadata": {},
     "output_type": "execute_result"
    }
   ],
   "source": [
    "model.evaluate(img_test_data, img_test_labels)"
   ]
  },
  {
   "cell_type": "code",
   "execution_count": 20,
   "id": "freelance-metallic",
   "metadata": {
    "execution": {
     "iopub.execute_input": "2021-07-02T12:18:16.482261Z",
     "iopub.status.busy": "2021-07-02T12:18:16.481586Z",
     "iopub.status.idle": "2021-07-02T12:18:18.354218Z",
     "shell.execute_reply": "2021-07-02T12:18:18.353554Z",
     "shell.execute_reply.started": "2021-07-02T12:12:30.925002Z"
    },
    "papermill": {
     "duration": 3.301991,
     "end_time": "2021-07-02T12:18:18.354387",
     "exception": false,
     "start_time": "2021-07-02T12:18:15.052396",
     "status": "completed"
    },
    "tags": []
   },
   "outputs": [],
   "source": [
    "# Reading Test Dataset\n",
    "test = pd.read_csv('../input/digit-recognizer/test.csv')\n",
    "test = np.reshape(np.array(test), (test.shape[0], 28, 28, 1))"
   ]
  },
  {
   "cell_type": "code",
   "execution_count": 21,
   "id": "existing-trout",
   "metadata": {
    "execution": {
     "iopub.execute_input": "2021-07-02T12:18:21.303775Z",
     "iopub.status.busy": "2021-07-02T12:18:21.303034Z",
     "iopub.status.idle": "2021-07-02T12:18:26.528863Z",
     "shell.execute_reply": "2021-07-02T12:18:26.528049Z",
     "shell.execute_reply.started": "2021-07-02T12:12:35.802378Z"
    },
    "papermill": {
     "duration": 6.721665,
     "end_time": "2021-07-02T12:18:26.529062",
     "exception": false,
     "start_time": "2021-07-02T12:18:19.807397",
     "status": "completed"
    },
    "tags": []
   },
   "outputs": [],
   "source": [
    "# Making Predictions on existing model.\n",
    "prediction = model.predict(test)\n",
    "\n",
    "# Rounding the prediction and converting float64 output to int64 output.\n",
    "prediction = np.array(np.round(prediction), dtype='int64')\n",
    "\n",
    "# Converting one-hot encoding into label encoding\n",
    "prediction = (np.argmax(prediction, axis=1)).reshape(-1, 1)\n",
    "\n",
    "# Creating a DataFrame similar to Example Submission\n",
    "out = [{'ImageId': i+1, 'Label': prediction[i][0]} for i in range(len(prediction))]\n",
    "\n",
    "# Creating a .csv file from the DataFrame\n",
    "pd.DataFrame(out).to_csv('submission_v2.csv', index=False)"
   ]
  }
 ],
 "metadata": {
  "kernelspec": {
   "display_name": "Python 3",
   "language": "python",
   "name": "python3"
  },
  "language_info": {
   "codemirror_mode": {
    "name": "ipython",
    "version": 3
   },
   "file_extension": ".py",
   "mimetype": "text/x-python",
   "name": "python",
   "nbconvert_exporter": "python",
   "pygments_lexer": "ipython3",
   "version": "3.7.9"
  },
  "papermill": {
   "default_parameters": {},
   "duration": 315.40762,
   "end_time": "2021-07-02T12:18:29.474319",
   "environment_variables": {},
   "exception": null,
   "input_path": "__notebook__.ipynb",
   "output_path": "__notebook__.ipynb",
   "parameters": {},
   "start_time": "2021-07-02T12:13:14.066699",
   "version": "2.3.2"
  }
 },
 "nbformat": 4,
 "nbformat_minor": 5
}
